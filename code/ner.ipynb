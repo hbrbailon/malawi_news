{
 "cells": [
  {
   "cell_type": "markdown",
   "id": "1773d937-347e-4926-854f-cfdf0e959091",
   "metadata": {},
   "source": [
    "# Named Entity Recognition"
   ]
  },
  {
   "cell_type": "code",
   "execution_count": 54,
   "id": "bec2e762-e547-4930-8797-55ad5124c4c3",
   "metadata": {},
   "outputs": [],
   "source": [
    "import spacy\n",
    "from spacy import displacy #for visualizing our entities\n",
    "import os\n",
    "directory = '/Users/claudia_o_r/Python/Projects/malawi_news/txts_2019/' #here I indicate the directory where the text files are\n",
    "import csv\n",
    "import collections\n",
    "\n",
    "NER = spacy.load(\"en_core_web_sm\") #spacy model - English pipeline"
   ]
  },
  {
   "cell_type": "code",
   "execution_count": null,
   "id": "9ad49988-4b47-43b9-bb06-044c852a8756",
   "metadata": {},
   "outputs": [],
   "source": [
    "for filename in os.listdir(directory):\n",
    "    f = os.path.join(directory, filename)\n",
    "    #print(filename)\n",
    "    with open(f, 'r') as this_news: \n",
    "        new_f = open(\"/Users/claudia_o_r/Python/Projects/malawi_news/ner_2019/\"+filename, \"x\") # in the directory 'ner_2018' create new file in which to write the identified entities\n",
    "        contents = this_news.read()\n",
    "        text1= NER(contents) # extract the entities\n",
    "        for word in text1.ents: # for each identified entity\n",
    "            new_f.write(word.text) # write entity\n",
    "            new_f.write(' ')\n",
    "            new_f.write(word.label_) #write label\n",
    "            new_f.write('\\n')\n",
    "        new_f.close()"
   ]
  },
  {
   "cell_type": "code",
   "execution_count": 55,
   "id": "2219adf8-9e5b-442a-864b-71fd7a3c627a",
   "metadata": {},
   "outputs": [],
   "source": [
    "#writing to csvs\n",
    "new_f = open(\"/Users/claudia_o_r/Python/Projects/malawi_news/ner_2019/uniqueEntities_2019.csv\", \"w\") # in the directory 'ner_2018' create new file in which to write the identified entities\n",
    "header = 'doc_id,entity,label,frequency'\n",
    "new_f.write(header) # write header\n",
    "new_f.write('\\n')\n",
    "for filename in os.listdir(directory):\n",
    "    f = os.path.join(directory, filename)\n",
    "    with open(f, 'r') as this_news:\n",
    "        contents = this_news.read()\n",
    "        text1 = NER(contents) # extract the entities\n",
    "        items = [(x.text, x.label_) for x in text1.ents]\n",
    "        counter = collections.Counter(items).most_common(100)\n",
    "        for k,v in counter: # for each identified entity\n",
    "            line = filename.replace('.txt','') +','+ k[0] +','+ k[1] +','+ str(v)\n",
    "            new_f.write(line) #write entity\n",
    "            new_f.write('\\n')\n",
    "new_f.close()"
   ]
  },
  {
   "cell_type": "code",
   "execution_count": null,
   "id": "0c204ed0-f16a-463c-8ae8-a4f7bfbaa9b8",
   "metadata": {},
   "outputs": [],
   "source": [
    "#test only for a single text \n",
    "contents = \"\"\"Floods cause havoc in Karonga: kill one. Floods killed one person, displaced families and destroyed hectares of crops in Karonga district on Wednesday.Karonga District Commissioner (DC) Richard Hara said the incident happened in the morning hours in the area of Group Village Headman Mwenelupembe, Traditional Authority Kyungu in the district following the heavy rains that ended up flooding Bwaye River.He said the district’s natural disaster office is assessing the families affected and hectares of crops destroyed.The DC identified the deceased as Blessings Mwalwanda, 11, who hailed from group village headman Mwenelupembe in the area of Traditional Authority Kyungu.Concurring with Hara, Member of Parliament (MP) for the area Frank Mwenefumbo called for an immediate assistance from government and well-wishers in terms of temporary accommodation, food and health services.Mwenefumbo said the affected community needs strong attention from the health officials to prevent the spread of cholera outbreak which has already hit the district.Meanwhile, officials from the district council have appealed to people living around the flood prone areas to relocate to upper land.Karonga is one of the flood prone districts in the country. Last year, thousands of families were affected by floods. The floods also destroyed crops and hundreds of livestock.\"\"\"\n",
    "# change the value of contents (by adding a new text) if you'd like to see it on a different news\n",
    "text1= NER(contents)"
   ]
  },
  {
   "cell_type": "code",
   "execution_count": null,
   "id": "3c32db88-758b-4a22-b11f-d2713acededd",
   "metadata": {},
   "outputs": [],
   "source": [
    "#visualize using displacy\n",
    "displacy.render(text1,style=\"ent\",jupyter=True) "
   ]
  }
 ],
 "metadata": {
  "kernelspec": {
   "display_name": "Python 3 (ipykernel)",
   "language": "python",
   "name": "python3"
  },
  "language_info": {
   "codemirror_mode": {
    "name": "ipython",
    "version": 3
   },
   "file_extension": ".py",
   "mimetype": "text/x-python",
   "name": "python",
   "nbconvert_exporter": "python",
   "pygments_lexer": "ipython3",
   "version": "3.9.9"
  }
 },
 "nbformat": 4,
 "nbformat_minor": 5
}
