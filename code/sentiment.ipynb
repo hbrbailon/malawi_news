{
 "cells": [
  {
   "cell_type": "markdown",
   "id": "4ab37a0b-df8d-4bf9-8d66-4805de843451",
   "metadata": {},
   "source": [
    "# Sentiment Analysis"
   ]
  },
  {
   "cell_type": "code",
   "execution_count": 60,
   "id": "f3bc7f36-580f-4232-9a41-9f268ebaa262",
   "metadata": {},
   "outputs": [],
   "source": [
    "import spacy\n",
    "from spacytextblob.spacytextblob import SpacyTextBlob #sentiment analysis using https://spacy.io/universe/project/spacy-textblob\n",
    "import nltk\n",
    "import os\n",
    "#nltk.download('punkt')\n",
    "nlp = spacy.load('en_core_web_sm')\n",
    "nlp.add_pipe('spacytextblob') \n",
    "directory = '/Users/hannahbailon/Downloads/malawi_news/' #directory where you keep your txts and your sentiment files"
   ]
  },
  {
   "cell_type": "code",
   "execution_count": 61,
   "id": "946ba485-982d-4ef7-973f-dd8a072189d3",
   "metadata": {},
   "outputs": [],
   "source": [
    "for filename in os.listdir(directory+\"txts_2018/\"):\n",
    "    f = os.path.join(directory+\"txts_2018/\", filename) # for each text file\n",
    "    with open(f, 'r') as this_news:\n",
    "        new_f = open(directory+\"sentiment_2018/\"+filename, \"x\")\n",
    "        contents = this_news.read() #read the text\n",
    "        doc = nlp(contents)\n",
    "        #extract polarity, subjectivity, and assessments\n",
    "        new_f.write(\"polarity: \"+ str(doc._.blob.polarity))\n",
    "        new_f.write('\\n')\n",
    "        new_f.write(\"subjectivity: \"+ str(doc._.blob.subjectivity))\n",
    "        new_f.write('\\n')\n",
    "        new_f.write(\"assessments: \"+ str(doc._.blob.sentiment_assessments.assessments))\n",
    "        new_f.write('\\n')\n",
    "        new_f.close()"
   ]
  },
  {
   "cell_type": "code",
   "execution_count": null,
   "id": "cd643140-1a39-4494-a222-c7c4fe38fc9c",
   "metadata": {},
   "outputs": [],
   "source": []
  }
 ],
 "metadata": {
  "kernelspec": {
   "display_name": "Python 3 (ipykernel)",
   "language": "python",
   "name": "python3"
  },
  "language_info": {
   "codemirror_mode": {
    "name": "ipython",
    "version": 3
   },
   "file_extension": ".py",
   "mimetype": "text/x-python",
   "name": "python",
   "nbconvert_exporter": "python",
   "pygments_lexer": "ipython3",
   "version": "3.9.9"
  }
 },
 "nbformat": 4,
 "nbformat_minor": 5
}
